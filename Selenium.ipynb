{
 "cells": [
  {
   "cell_type": "markdown",
   "id": "90f68446",
   "metadata": {},
   "source": [
    "# 셀레니움\n",
    "* 셀레니움은 브라우저를 컨트롤할 수 있도록 지원하는 라이브러리\n",
    "* [셀레니움 드라이버 다운로드](https://sites.google.com/chromium.org/driver/downloads?pli=1)"
   ]
  },
  {
   "cell_type": "code",
   "execution_count": 5,
   "id": "c769eca7",
   "metadata": {},
   "outputs": [
    {
     "name": "stdout",
     "output_type": "stream",
     "text": [
      "Requirement already satisfied: selenium in c:\\users\\leeso\\appdata\\local\\programs\\python\\python38\\lib\\site-packages (4.7.2)\n",
      "Requirement already satisfied: trio~=0.17 in c:\\users\\leeso\\appdata\\local\\programs\\python\\python38\\lib\\site-packages (from selenium) (0.22.0)\n",
      "Requirement already satisfied: trio-websocket~=0.9 in c:\\users\\leeso\\appdata\\local\\programs\\python\\python38\\lib\\site-packages (from selenium) (0.9.2)\n",
      "Requirement already satisfied: urllib3[socks]~=1.26 in c:\\users\\leeso\\appdata\\local\\programs\\python\\python38\\lib\\site-packages (from selenium) (1.26.13)\n",
      "Requirement already satisfied: certifi>=2021.10.8 in c:\\users\\leeso\\appdata\\local\\programs\\python\\python38\\lib\\site-packages (from selenium) (2022.12.7)\n",
      "Requirement already satisfied: sniffio in c:\\users\\leeso\\appdata\\local\\programs\\python\\python38\\lib\\site-packages (from trio~=0.17->selenium) (1.3.0)\n",
      "Requirement already satisfied: attrs>=19.2.0 in c:\\users\\leeso\\appdata\\local\\programs\\python\\python38\\lib\\site-packages (from trio~=0.17->selenium) (22.2.0)\n",
      "Requirement already satisfied: sortedcontainers in c:\\users\\leeso\\appdata\\local\\programs\\python\\python38\\lib\\site-packages (from trio~=0.17->selenium) (2.4.0)\n",
      "Requirement already satisfied: async-generator>=1.9 in c:\\users\\leeso\\appdata\\local\\programs\\python\\python38\\lib\\site-packages (from trio~=0.17->selenium) (1.10)\n",
      "Requirement already satisfied: idna in c:\\users\\leeso\\appdata\\local\\programs\\python\\python38\\lib\\site-packages (from trio~=0.17->selenium) (3.4)\n",
      "Requirement already satisfied: exceptiongroup>=1.0.0rc9 in c:\\users\\leeso\\appdata\\local\\programs\\python\\python38\\lib\\site-packages (from trio~=0.17->selenium) (1.1.0)\n",
      "Requirement already satisfied: outcome in c:\\users\\leeso\\appdata\\local\\programs\\python\\python38\\lib\\site-packages (from trio~=0.17->selenium) (1.2.0)\n",
      "Requirement already satisfied: cffi>=1.14 in c:\\users\\leeso\\appdata\\local\\programs\\python\\python38\\lib\\site-packages (from trio~=0.17->selenium) (1.15.1)\n",
      "Requirement already satisfied: wsproto>=0.14 in c:\\users\\leeso\\appdata\\local\\programs\\python\\python38\\lib\\site-packages (from trio-websocket~=0.9->selenium) (1.2.0)\n",
      "Requirement already satisfied: PySocks!=1.5.7,<2.0,>=1.5.6 in c:\\users\\leeso\\appdata\\local\\programs\\python\\python38\\lib\\site-packages (from urllib3[socks]~=1.26->selenium) (1.7.1)\n",
      "Requirement already satisfied: pycparser in c:\\users\\leeso\\appdata\\local\\programs\\python\\python38\\lib\\site-packages (from cffi>=1.14->trio~=0.17->selenium) (2.21)\n",
      "Requirement already satisfied: h11<1,>=0.9.0 in c:\\users\\leeso\\appdata\\local\\programs\\python\\python38\\lib\\site-packages (from wsproto>=0.14->trio-websocket~=0.9->selenium) (0.14.0)\n"
     ]
    }
   ],
   "source": [
    "!pip install selenium"
   ]
  },
  {
   "cell_type": "code",
   "execution_count": 6,
   "id": "96f1a835",
   "metadata": {},
   "outputs": [],
   "source": [
    "from selenium import webdriver\n",
    "from selenium.webdriver.common.keys import Keys"
   ]
  },
  {
   "cell_type": "code",
   "execution_count": 7,
   "id": "8bf54127",
   "metadata": {},
   "outputs": [
    {
     "name": "stderr",
     "output_type": "stream",
     "text": [
      "C:\\Users\\leeso\\AppData\\Local\\Temp\\ipykernel_16668\\1967310506.py:1: DeprecationWarning: executable_path has been deprecated, please pass in a Service object\n",
      "  driver = webdriver.Chrome('C:/AI_Python/jupyter/crawling/chromedriver.exe')\n"
     ]
    }
   ],
   "source": [
    "driver = webdriver.Chrome('C:/AI_Python/jupyter/crawling/chromedriver.exe')"
   ]
  },
  {
   "cell_type": "code",
   "execution_count": 9,
   "id": "9af1c09e",
   "metadata": {},
   "outputs": [],
   "source": [
    "driver.get('https://www.python.org')"
   ]
  },
  {
   "cell_type": "code",
   "execution_count": 10,
   "id": "fd417b36",
   "metadata": {},
   "outputs": [],
   "source": [
    "search = driver.find_element('name', 'q')\n",
    "search.send_keys('lambda')\n",
    "search.send_keys(Keys.RETURN)"
   ]
  },
  {
   "cell_type": "markdown",
   "id": "d90efbf6",
   "metadata": {},
   "source": [
    "# 네이버 웹툰\n",
    "* [김부장 62화 댓글 크롤링 주소](https://comic.naver.com/comment/comment?titleId=783053&no=62)"
   ]
  },
  {
   "cell_type": "code",
   "execution_count": 11,
   "id": "8339fd4b",
   "metadata": {},
   "outputs": [],
   "source": [
    "from selenium import webdriver\n",
    "from selenium.webdriver.common.keys import Keys"
   ]
  },
  {
   "cell_type": "code",
   "execution_count": 12,
   "id": "6a6703ec",
   "metadata": {},
   "outputs": [
    {
     "name": "stderr",
     "output_type": "stream",
     "text": [
      "C:\\Users\\leeso\\AppData\\Local\\Temp\\ipykernel_16668\\1610292568.py:1: DeprecationWarning: executable_path has been deprecated, please pass in a Service object\n",
      "  driver = webdriver.Chrome('C:/AI_Python/jupyter/crawling/chromedriver.exe')\n"
     ]
    }
   ],
   "source": [
    "driver = webdriver.Chrome('C:/AI_Python/jupyter/crawling/chromedriver.exe')\n",
    "driver.get('https://comic.naver.com/comment/comment?titleId=783053&no=62')"
   ]
  },
  {
   "cell_type": "code",
   "execution_count": 13,
   "id": "ed05d896",
   "metadata": {},
   "outputs": [],
   "source": [
    "from bs4 import BeautifulSoup\n",
    "\n",
    "soup = BeautifulSoup(driver.page_source)"
   ]
  },
  {
   "cell_type": "code",
   "execution_count": 14,
   "id": "d753b348",
   "metadata": {},
   "outputs": [
    {
     "name": "stdout",
     "output_type": "stream",
     "text": [
      "[<span class=\"u_cbox_contents\" data-lang=\"ko\" style=\"\">막컷 ㄹㅇ 박태준 유니버스 통틀어서 와꾸 제일 살벌하네</span>, <span class=\"u_cbox_contents\" data-lang=\"ko\" style=\"\">후반에 3ㄷ2로 역전한다 \n",
      "이 댓은 성지가 된다 와드 박아라</span>, <span class=\"u_cbox_contents\" data-lang=\"ko\" style=\"\">가나 이정도 아니었잖아요.\n",
      "피파랭킹 61이었잖아요.\n",
      "\n",
      "근데 지금의 가나 왜 이렇게 위험해 보이죠?\n",
      "\n",
      "가나 잡기 어렵군요.\n",
      "\n",
      "지금부터 모든 가능성을 열어두겠습니다.\n",
      "\n",
      "인정합니다, 당신들을 슛돌이 급으로 판단 하겠습니다.</span>, <span class=\"u_cbox_contents\" data-lang=\"ko\" style=\"\">전반전 보고 호다닥 온사람?</span>, <span class=\"u_cbox_contents\" data-lang=\"ko\" style=\"\">ㅋㅋㅋ 한마바키에서 볼 듯한 외모네 ㄷㄷ;</span>, <span class=\"u_cbox_contents\" data-lang=\"ko\" style=\"\">⠀⠀⠀⠀⠀⠀⠀⢀⢠⣤⣴⣾⣿⣿⣷⣶⣯⣿⣿⣶⣠⡀⠀⠀\n",
      "⠀⠀⠀⠀⠀⠀⢠⣶⣿⣿⣿⣿⣿⣿⣿⣻⣿⣿⣿⣿⣿⣿⣦⠀\n",
      "⠀⠀⠀⠀⠀⡰⣵⣿⣿⣿⣿⣿⣹⢿⣿⣿⣿⣿⡟⣿⣿⣿⣿⡧\n",
      "⠀⠀⠀⠀⠀⢳⢾⣿⣿⣿⡿⠛⢷⠀⠀⣽⣿⣹⣿⣿⣿⣿⣿⣿\n",
      "⠀⠀⠀⠠⠐⠁⣿⡟⠭⠿⠀⠠⢸⣄⠀⣿⣿⢻⣿⣿⣿⣿⣿⣿\n",
      "⠀⠀⠀⠀⠀⠉⠟⠀⡨⠝⠀⠀⣮⣮⠳⣿⣿⣿⣿⣿⣿⣿⣿⣿\n",
      "⠀⠀⠀⠀⠀⠈⠀⡞⠁⠀⠀⠀⠙⠙⠳⠘⣿⣿⣿⣿⣿⣿⣿⣿\n",
      "⠀⠀⠀⠀⠀⢸⢴⡙⠀⠢⠀⢄⠀⠀⠀⠱⠹⣿⣿⣿⣿⣿⣿⣿\n",
      "⠀⠀⠀⠀⠀⢘⣻⣬⣍⡐⠦⠀⠱⠀⠀⠀⠀⣹⠿⣿⣿⣿⣿⡿\n",
      "⠀⠀⠀⠀⠀⢠⣑⠩⢛⢿⣧⣧⠀⠁⠀⠀⠈⠀⡐⠛⣹⡿⠋⠀\n",
      "⠀⠀⠀⠀⠀⢸⠠⠈⣢⣑⠂⠘⠀⠀⢀⡠⠂⠀⢛⡻⣿⣁⠀⠀\n",
      "⠀⠀⠀⠀⠀⠘⠄⣀⡈⣀⣄⣴⣦⡾⢊⠠⠐⠉⠀⠀⠛⠻⣧⡀\n",
      "⠀⠀⠀⠀⠀⠀⠀⠀⠀⢻⣿⣿⠝⠈⠀⠠⠤⠤⢀⣁⡀⠀⠈⠡\n",
      "⠀⠀⠀⠀⠀⠀⠀⠀⠀⣰⡭⢃⡠⠶⠟⠓⠒⠂⠤⢀⡈⠁⠐⠂\n",
      "⡀⠀⠀⠀⠀⠀⠀⠀⢠⣿⣧⠤⠤⠤⠀⠀⠀⠀⠀⠀⠈⠑⠤⡀\n",
      "⣿⣦⠀⠀⠀⠀⢀⡤⠞⠋⠀⠀⠀⠀⠀⠈⠀⠀⠀⠀⠀⠀⠀⠀\n",
      "\n",
      "???:벤투형 우리 지는거 아니지??</span>, <span class=\"u_cbox_contents\" data-lang=\"ko\" style=\"\">백호인력 최고 전력 vs 야쿠자 경성회 최고전력</span>, <span class=\"u_cbox_contents\" data-lang=\"ko\" style=\"\">와꾸 보니까 뭐야 이건이라고 한거 이해 ㅈㄴ되누 ㅋㅋ</span>, <span class=\"u_cbox_contents\" data-lang=\"ko\" style=\"\">와꾸랑 손크기 보면 이도규랑 싸움 붙여주고 싶네ㅋㅋㅋㅋ</span>, <span class=\"u_cbox_contents\" data-lang=\"ko\" style=\"\">막컷 저게 어떻게 사람 얼굴인데ㅋㅋㅋㅋㅋ</span>, <span class=\"u_cbox_contents\" data-lang=\"ko\" style=\"\">그냥 일본 왕석두잖아 ㅋㅋㅋㅋㅋㅋㅋ</span>, <span class=\"u_cbox_contents\" data-lang=\"ko\" style=\"\">ㅈㄴ 살벌하게도 생겼네 ㅋㅋㅋㅋㅋㅋ</span>, <span class=\"u_cbox_contents\" data-lang=\"ko\" style=\"\">역대급 와꾸네ㄷㄷ</span>, <span class=\"u_cbox_contents\" data-lang=\"ko\" style=\"\">견적 씨게 나오게 생겼네 ㄹㅇ</span>, <span class=\"u_cbox_contents\" data-lang=\"ko\" style=\"\">이도규인줄 알고 식겁했으면 개추ㅋㅋㅋㅋ</span>]\n"
     ]
    }
   ],
   "source": [
    "comment_area = soup.findAll('span',{'class':'u_cbox_contents'})\n",
    "print(comment_area)"
   ]
  },
  {
   "cell_type": "code",
   "execution_count": 16,
   "id": "fc9095d5",
   "metadata": {
    "scrolled": true
   },
   "outputs": [
    {
     "name": "stdout",
     "output_type": "stream",
     "text": [
      "********** 베스트 댓글 **********\n",
      "막컷 ㄹㅇ 박태준 유니버스 통틀어서 와꾸 제일 살벌하네\n",
      "------------------------------\n",
      "후반에 3ㄷ2로 역전한다 \n",
      "이 댓은 성지가 된다 와드 박아라\n",
      "------------------------------\n",
      "가나 이정도 아니었잖아요.\n",
      "피파랭킹 61이었잖아요.\n",
      "\n",
      "근데 지금의 가나 왜 이렇게 위험해 보이죠?\n",
      "\n",
      "가나 잡기 어렵군요.\n",
      "\n",
      "지금부터 모든 가능성을 열어두겠습니다.\n",
      "\n",
      "인정합니다, 당신들을 슛돌이 급으로 판단 하겠습니다.\n",
      "------------------------------\n",
      "전반전 보고 호다닥 온사람?\n",
      "------------------------------\n",
      "ㅋㅋㅋ 한마바키에서 볼 듯한 외모네 ㄷㄷ;\n",
      "------------------------------\n",
      "⠀⠀⠀⠀⠀⠀⠀⢀⢠⣤⣴⣾⣿⣿⣷⣶⣯⣿⣿⣶⣠⡀⠀⠀\n",
      "⠀⠀⠀⠀⠀⠀⢠⣶⣿⣿⣿⣿⣿⣿⣿⣻⣿⣿⣿⣿⣿⣿⣦⠀\n",
      "⠀⠀⠀⠀⠀⡰⣵⣿⣿⣿⣿⣿⣹⢿⣿⣿⣿⣿⡟⣿⣿⣿⣿⡧\n",
      "⠀⠀⠀⠀⠀⢳⢾⣿⣿⣿⡿⠛⢷⠀⠀⣽⣿⣹⣿⣿⣿⣿⣿⣿\n",
      "⠀⠀⠀⠠⠐⠁⣿⡟⠭⠿⠀⠠⢸⣄⠀⣿⣿⢻⣿⣿⣿⣿⣿⣿\n",
      "⠀⠀⠀⠀⠀⠉⠟⠀⡨⠝⠀⠀⣮⣮⠳⣿⣿⣿⣿⣿⣿⣿⣿⣿\n",
      "⠀⠀⠀⠀⠀⠈⠀⡞⠁⠀⠀⠀⠙⠙⠳⠘⣿⣿⣿⣿⣿⣿⣿⣿\n",
      "⠀⠀⠀⠀⠀⢸⢴⡙⠀⠢⠀⢄⠀⠀⠀⠱⠹⣿⣿⣿⣿⣿⣿⣿\n",
      "⠀⠀⠀⠀⠀⢘⣻⣬⣍⡐⠦⠀⠱⠀⠀⠀⠀⣹⠿⣿⣿⣿⣿⡿\n",
      "⠀⠀⠀⠀⠀⢠⣑⠩⢛⢿⣧⣧⠀⠁⠀⠀⠈⠀⡐⠛⣹⡿⠋⠀\n",
      "⠀⠀⠀⠀⠀⢸⠠⠈⣢⣑⠂⠘⠀⠀⢀⡠⠂⠀⢛⡻⣿⣁⠀⠀\n",
      "⠀⠀⠀⠀⠀⠘⠄⣀⡈⣀⣄⣴⣦⡾⢊⠠⠐⠉⠀⠀⠛⠻⣧⡀\n",
      "⠀⠀⠀⠀⠀⠀⠀⠀⠀⢻⣿⣿⠝⠈⠀⠠⠤⠤⢀⣁⡀⠀⠈⠡\n",
      "⠀⠀⠀⠀⠀⠀⠀⠀⠀⣰⡭⢃⡠⠶⠟⠓⠒⠂⠤⢀⡈⠁⠐⠂\n",
      "⡀⠀⠀⠀⠀⠀⠀⠀⢠⣿⣧⠤⠤⠤⠀⠀⠀⠀⠀⠀⠈⠑⠤⡀\n",
      "⣿⣦⠀⠀⠀⠀⢀⡤⠞⠋⠀⠀⠀⠀⠀⠈⠀⠀⠀⠀⠀⠀⠀⠀\n",
      "\n",
      "???:벤투형 우리 지는거 아니지??\n",
      "------------------------------\n",
      "백호인력 최고 전력 vs 야쿠자 경성회 최고전력\n",
      "------------------------------\n",
      "와꾸 보니까 뭐야 이건이라고 한거 이해 ㅈㄴ되누 ㅋㅋ\n",
      "------------------------------\n",
      "와꾸랑 손크기 보면 이도규랑 싸움 붙여주고 싶네ㅋㅋㅋㅋ\n",
      "------------------------------\n",
      "막컷 저게 어떻게 사람 얼굴인데ㅋㅋㅋㅋㅋ\n",
      "------------------------------\n",
      "그냥 일본 왕석두잖아 ㅋㅋㅋㅋㅋㅋㅋ\n",
      "------------------------------\n",
      "ㅈㄴ 살벌하게도 생겼네 ㅋㅋㅋㅋㅋㅋ\n",
      "------------------------------\n",
      "역대급 와꾸네ㄷㄷ\n",
      "------------------------------\n",
      "견적 씨게 나오게 생겼네 ㄹㅇ\n",
      "------------------------------\n",
      "이도규인줄 알고 식겁했으면 개추ㅋㅋㅋㅋ\n",
      "------------------------------\n"
     ]
    }
   ],
   "source": [
    "print('********** 베스트 댓글 **********')\n",
    "for i in range(len(comment_area)):\n",
    "    comment = comment_area[i].text.strip()\n",
    "    print(comment)\n",
    "    print('-'*30)"
   ]
  },
  {
   "cell_type": "code",
   "execution_count": 20,
   "id": "a4fa4db2",
   "metadata": {},
   "outputs": [],
   "source": [
    "# 전체 댓글 더보기 버튼 클릭\n",
    "driver.find_element('xpath','//*[@id=\"cbox_module_wai_u_cbox_sort_option_tab2\"]/span[2]').click()"
   ]
  },
  {
   "cell_type": "code",
   "execution_count": 21,
   "id": "e05041dd",
   "metadata": {},
   "outputs": [
    {
     "name": "stdout",
     "output_type": "stream",
     "text": [
      "[<span class=\"u_cbox_contents\" data-lang=\"ko\" style=\"\">꿀잼</span>, <span class=\"u_cbox_contents\" data-lang=\"ko\" style=\"\">잘봤습니다 </span>, <span class=\"u_cbox_contents\" data-lang=\"ko\" style=\"\">유호빈컴퍼니는 김부장님을 언제 도와주러오는겁니까?</span>, <span class=\"u_cbox_contents\" data-lang=\"ko\" style=\"\">저정도면 날파리보단 똥파리에 더 가깝..</span>, <span class=\"u_cbox_contents\" data-lang=\"ko\" style=\"\">귀살대 선별시험에 나오는 50명 먹은 이형 혈귀같노</span>, <span class=\"u_cbox_contents\" data-lang=\"ko\" style=\"\">깨알 메종키츠네 ㄹㅇㅋㅋ 디테일 미쳤네</span>, <span class=\"u_cbox_contents\" data-lang=\"ko\" style=\"\">순간 구데기 문신인줄ㄷㄷ</span>, <span class=\"u_cbox_contents\" data-lang=\"ko\" style=\"\">세수대야 이빠이네</span>, <span class=\"u_cbox_contents\" data-lang=\"ko\" style=\"\">저 정도면  계란으로 바위치기가 아니라 바위로 계란치기다 ㄷㄷ</span>, <span class=\"u_cbox_contents\" data-lang=\"ko\" style=\"\">다음화 제목 외지주냐 ㅋㅋㅋㅋㅋㅋ</span>, <span class=\"u_cbox_contents\" data-lang=\"ko\" style=\"\">최대전력 부총재 치과부터 가자</span>, <span class=\"u_cbox_contents\" data-lang=\"ko\" style=\"\">오 저 나실징이 하고 있는 팬티 정보 알고 싶다 갑자기 다리 찢기를 해서 충격을 줘도 절대 흠집 하나 나지 않는 저 초 강력 팬티를</span>, <span class=\"u_cbox_contents\" data-lang=\"ko\" style=\"\">존나노잼</span>, <span class=\"u_cbox_contents\" data-lang=\"ko\" style=\"\">일본한테 지면 보자</span>]\n"
     ]
    }
   ],
   "source": [
    "soup = BeautifulSoup(driver.page_source)\n",
    "comment_area = soup.findAll('span',{'class':'u_cbox_contents'})\n",
    "print(comment_area)"
   ]
  },
  {
   "cell_type": "code",
   "execution_count": 22,
   "id": "8f9f5191",
   "metadata": {},
   "outputs": [
    {
     "name": "stdout",
     "output_type": "stream",
     "text": [
      "********** 전체 댓글 **********\n",
      "꿀잼\n",
      "------------------------------\n",
      "잘봤습니다\n",
      "------------------------------\n",
      "유호빈컴퍼니는 김부장님을 언제 도와주러오는겁니까?\n",
      "------------------------------\n",
      "저정도면 날파리보단 똥파리에 더 가깝..\n",
      "------------------------------\n",
      "귀살대 선별시험에 나오는 50명 먹은 이형 혈귀같노\n",
      "------------------------------\n",
      "깨알 메종키츠네 ㄹㅇㅋㅋ 디테일 미쳤네\n",
      "------------------------------\n",
      "순간 구데기 문신인줄ㄷㄷ\n",
      "------------------------------\n",
      "세수대야 이빠이네\n",
      "------------------------------\n",
      "저 정도면  계란으로 바위치기가 아니라 바위로 계란치기다 ㄷㄷ\n",
      "------------------------------\n",
      "다음화 제목 외지주냐 ㅋㅋㅋㅋㅋㅋ\n",
      "------------------------------\n",
      "최대전력 부총재 치과부터 가자\n",
      "------------------------------\n",
      "오 저 나실징이 하고 있는 팬티 정보 알고 싶다 갑자기 다리 찢기를 해서 충격을 줘도 절대 흠집 하나 나지 않는 저 초 강력 팬티를\n",
      "------------------------------\n",
      "존나노잼\n",
      "------------------------------\n",
      "일본한테 지면 보자\n",
      "------------------------------\n"
     ]
    }
   ],
   "source": [
    "print('********** 전체 댓글 **********')\n",
    "for i in range(len(comment_area)):\n",
    "    comment = comment_area[i].text.strip()\n",
    "    print(comment)\n",
    "    print('-'*30)"
   ]
  },
  {
   "cell_type": "markdown",
   "id": "aafac3b4",
   "metadata": {},
   "source": [
    "# 바나프레소\n",
    "* [지점 이름과 주소 크롤링](https://banapresso.com/store)"
   ]
  },
  {
   "cell_type": "code",
   "execution_count": 36,
   "id": "3ee11ec5",
   "metadata": {},
   "outputs": [
    {
     "name": "stdout",
     "output_type": "stream",
     "text": [
      "Collecting pandas\n",
      "  Downloading pandas-1.5.2-cp38-cp38-win_amd64.whl (11.0 MB)\n",
      "     ---------------------------------------- 11.0/11.0 MB 7.8 MB/s eta 0:00:00\n",
      "Collecting pytz>=2020.1\n",
      "  Downloading pytz-2022.7-py2.py3-none-any.whl (499 kB)\n",
      "     -------------------------------------- 499.4/499.4 kB 7.8 MB/s eta 0:00:00\n",
      "Requirement already satisfied: python-dateutil>=2.8.1 in c:\\users\\leeso\\appdata\\local\\programs\\python\\python38\\lib\\site-packages (from pandas) (2.8.2)\n",
      "Collecting numpy>=1.20.3\n",
      "  Downloading numpy-1.24.1-cp38-cp38-win_amd64.whl (14.9 MB)\n",
      "     ---------------------------------------- 14.9/14.9 MB 6.9 MB/s eta 0:00:00\n",
      "Requirement already satisfied: six>=1.5 in c:\\users\\leeso\\appdata\\local\\programs\\python\\python38\\lib\\site-packages (from python-dateutil>=2.8.1->pandas) (1.16.0)\n",
      "Installing collected packages: pytz, numpy, pandas\n",
      "Successfully installed numpy-1.24.1 pandas-1.5.2 pytz-2022.7\n"
     ]
    }
   ],
   "source": [
    "import time\n",
    "!pip install pandas\n",
    "import pandas as pd\n",
    "from selenium.common.exceptions import NoSuchElementException\n",
    "from selenium import webdriver\n",
    "from selenium.webdriver.common.keys import Keys"
   ]
  },
  {
   "cell_type": "code",
   "execution_count": 38,
   "id": "fa00412d",
   "metadata": {},
   "outputs": [
    {
     "name": "stderr",
     "output_type": "stream",
     "text": [
      "C:\\Users\\leeso\\AppData\\Local\\Temp\\ipykernel_16668\\2357913345.py:1: DeprecationWarning: executable_path has been deprecated, please pass in a Service object\n",
      "  driver = webdriver.Chrome('C:/AI_Python/jupyter/crawling/chromedriver.exe')\n"
     ]
    }
   ],
   "source": [
    "driver = webdriver.Chrome('C:/AI_Python/jupyter/crawling/chromedriver.exe')\n",
    "driver.get('https://banapresso.com/store')"
   ]
  },
  {
   "cell_type": "code",
   "execution_count": 40,
   "id": "73b3fb8a",
   "metadata": {},
   "outputs": [],
   "source": [
    "total = []\n",
    "pagenum = 1\n",
    "\n",
    "html = driver.page_source\n",
    "soup = BeautifulSoup(html)\n",
    "data_area = soup.findAll('span',{'class','store_name_map'})\n",
    "for i in range(len(data_area)):\n",
    "    total.append([data_area[i].find('i').text, data_area[i].find('span').text])\n",
    "    \n",
    "while (True):\n",
    "    time.sleep(0.5)\n",
    "    try: \n",
    "        for i in range(2, 6):\n",
    "            driver.find_element('xpath','//*[@id=\"contents\"]/article/div/section[1]/div/div[1]/div[3]/ul/li[' +str(i)+ ']/a').click()\n",
    "            time.sleep(0.5)\n",
    "            soup = BeautifulSoup(driver.page_source)\n",
    "            for i in range(len(data_area)):\n",
    "                total.append([data_area[i].find('i').text, data_area[i].find('span').text])\n",
    "        if pagenum == 1:\n",
    "            driver.find_element('xpath','//*[@id=\"contents\"]/article/div/section[1]/div/div[1]/div[3]/span/a').click()\n",
    "            for i in range(len(data_area)):\n",
    "                total.append([data_area[i].find('i').text, data_area[i].find('span').text])\n",
    "            pagenum += 1\n",
    "    except NoSuchElementException:\n",
    "        break\n",
    "                "
   ]
  },
  {
   "cell_type": "code",
   "execution_count": 41,
   "id": "233e7369",
   "metadata": {},
   "outputs": [],
   "source": [
    "banapresso = pd.DataFrame(total)\n",
    "banapresso.columns = ['지점이름', '지점주소']\n",
    "banapresso.to_csv('./banapresso.csv')"
   ]
  }
 ],
 "metadata": {
  "kernelspec": {
   "display_name": "Python 3 (ipykernel)",
   "language": "python",
   "name": "python3"
  },
  "language_info": {
   "codemirror_mode": {
    "name": "ipython",
    "version": 3
   },
   "file_extension": ".py",
   "mimetype": "text/x-python",
   "name": "python",
   "nbconvert_exporter": "python",
   "pygments_lexer": "ipython3",
   "version": "3.8.6"
  }
 },
 "nbformat": 4,
 "nbformat_minor": 5
}
